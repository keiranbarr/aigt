{
 "cells": [
  {
   "cell_type": "code",
   "execution_count": 1,
   "metadata": {},
   "outputs": [],
   "source": [
    "# Change all of these variables according to application\n",
    "\n",
    "# Path to the trained model\n",
    "model_path = r\"E:\\Perk\\Data\\SavedModels\\1-UBC\\UltrasoundBoneSegmentation-Train-TF2_model-0_2020-08-07_19-58-51.h5\"\n",
    "# Path to testing images\n",
    "image_folder_path = r\"E:\\Perk\\Dataset\\Sub-evaluation-1-UBC\\Sub-evaluation-1-UBC\\test\\images\"\n",
    "# Folder to save output predictions in\n",
    "output_folder = r\"E:\\Perk\\Data\\Output\\Post-threshold-second-try\\Sub-evaluation-1-UBC\"\n",
    "# Optimal threshold for predictions, as determined by the training notebook\n",
    "best_thresh = 0.55\n",
    "# Notebook can only predict on 2d png, or 3d nrrd\n",
    "three_dim_input = False\n",
    "# Only used for the 2d predictions, in order to determine the best threshold\n",
    "output_as_three_dim = False"
   ]
  },
  {
   "cell_type": "code",
   "execution_count": 2,
   "metadata": {},
   "outputs": [],
   "source": [
    "import os\n",
    "import sys\n",
    "from pathlib import Path\n",
    "from PIL import Image\n",
    "import cv2\n",
    "import numpy as np\n",
    "import pandas as pd\n",
    "\n",
    "import matplotlib.pyplot as plt\n",
    "\n",
    "import evaluation_metrics\n",
    "\n",
    "import nrrd"
   ]
  },
  {
   "cell_type": "code",
   "execution_count": 3,
   "metadata": {},
   "outputs": [],
   "source": [
    "# Import aigt modules\n",
    "\n",
    "parent_folder = os.path.dirname(os.path.abspath(os.curdir))\n",
    "sys.path.append(parent_folder)\n",
    "\n",
    "import Models.segmentation_unet as unet\n",
    "import utils"
   ]
  },
  {
   "cell_type": "code",
   "execution_count": 4,
   "metadata": {},
   "outputs": [],
   "source": [
    "from tensorflow.keras.models import load_model\n",
    "\n",
    "model = load_model(model_path,custom_objects={'loss': unet.weighted_categorical_crossentropy([0.1,0.9])})"
   ]
  },
  {
   "cell_type": "code",
   "execution_count": 5,
   "metadata": {},
   "outputs": [],
   "source": [
    "def predict_2d(image):\n",
    "    image = convert_to_1channel(image)\n",
    "    return model.predict(image)"
   ]
  },
  {
   "cell_type": "code",
   "execution_count": 6,
   "metadata": {},
   "outputs": [],
   "source": [
    "def preprocess_data(input_arr,dsize,binarize):\n",
    "    arr = cv2.resize(input_arr, dsize=dsize, interpolation=cv2.INTER_AREA)\n",
    "    arr=arr/255\n",
    "    if binarize == True:\n",
    "        arr=arr>0\n",
    "        \n",
    "    arr = arr[:,:,np.newaxis]\n",
    "    arr = arr[np.newaxis,:,:,:]\n",
    "    \n",
    "    return arr"
   ]
  },
  {
   "cell_type": "code",
   "execution_count": 8,
   "metadata": {},
   "outputs": [
    {
     "name": "stdout",
     "output_type": "stream",
     "text": [
      "(3308, 128, 128)\n"
     ]
    }
   ],
   "source": [
    "filename_array,final_pred_array = [],[]\n",
    "\n",
    "if three_dim_input == False:\n",
    "    image_dimensions,image_array = [],[]\n",
    "    for root, dirs, files in os.walk(image_folder_path):\n",
    "        for file in files:\n",
    "            if file.endswith('.png'):\n",
    "                image_path=os.path.join(root, file)\n",
    "                filename_array.append(file)\n",
    "                arr=np.array(cv2.cvtColor(cv2.imread(image_path), cv2.COLOR_BGR2GRAY)).astype(np.uint8)\n",
    "                image_dimensions.append(np.shape(arr))\n",
    "\n",
    "                image_array.append(preprocess_data(np.array(arr),(128,128),False))\n",
    "    \n",
    "    n_images = np.shape(image_array)[0]\n",
    "    for image in range(n_images):\n",
    "        pred = (model.predict(image_array[image]))[0][:,:,1]\n",
    "        final_pred_array.append(pred)\n",
    "        \n",
    "        if output_as_three_dim == False:\n",
    "            save_path = os.path.join(output_folder,filename_array[image])\n",
    "            pred = cv2.resize(pred, dsize=(image_dimensions[image][1],image_dimensions[image][0]))\n",
    "            thresh_pred = (pred>best_thresh)\n",
    "            \n",
    "            cv2.imwrite(save_path, (thresh_pred.astype(np.uint8))*255) \n",
    "    \n",
    "    print(np.shape(final_pred_array))\n",
    "    if output_as_three_dim == True:\n",
    "        plt.imshow(final_pred_array[0])\n",
    "        print(\"3d\")\n",
    "        save_path = os.path.join(output_folder,(filename_array[image])[:-4]+\".nrrd\")\n",
    "        nrrd.write(save_path,((np.array(final_pred_array))))"
   ]
  },
  {
   "cell_type": "code",
   "execution_count": null,
   "metadata": {},
   "outputs": [],
   "source": [
    "if three_dim_input == True:\n",
    "    for root, dirs, files in os.walk(image_folder_path):\n",
    "        for file in files:\n",
    "            if file.endswith('.nrrd'):\n",
    "                \n",
    "                final_pred_array = []\n",
    "                                \n",
    "                image_dimensions_along_x = []\n",
    "                x_axis_images = []\n",
    "                \n",
    "                image_path=os.path.join(root, file)\n",
    "                filename_array.append(file)\n",
    "\n",
    "                data, header = nrrd.read(image_path)\n",
    "                print(np.shape(data))\n",
    "                \n",
    "                xDim,yDim,zDim = data.shape[0],data.shape[1],data.shape[2]\n",
    "                image_dimensions_along_x = np.shape(data[0,:,:])\n",
    "\n",
    "                # The x axis was chosen as the testing axis arbitrarily\n",
    "                # This is because the testing data does not tend to be oriented the same way across scans\n",
    "                for image in range(xDim):\n",
    "                    x_axis_images.append(preprocess_data(np.array(data[image,:,:]),(128,128),False))\n",
    "                    \n",
    "                    # change this order once testing is done\n",
    "                    pred = (model.predict(x_axis_images[image])[0][:,:,1])\n",
    "                    pred = cv2.resize(pred, dsize=(zDim,yDim))\n",
    "                    \n",
    "                    thresh_pred = pred>best_thresh\n",
    "                    final_pred_array.append(thresh_pred)\n",
    "                    \n",
    "                save_path = os.path.join(output_folder,file)\n",
    "                \n",
    "                print(np.shape(final_pred_array))\n",
    "                nrrd.write(save_path,(np.array(final_pred_array)).astype(int),header)\n",
    "                \n",
    "                print(\"Saved prediction for {}\".format(file))"
   ]
  },
  {
   "cell_type": "code",
   "execution_count": null,
   "metadata": {},
   "outputs": [],
   "source": [
    "#TODO generate diagram of test predictions"
   ]
  }
 ],
 "metadata": {
  "kernelspec": {
   "display_name": "Python 3",
   "language": "python",
   "name": "python3"
  },
  "language_info": {
   "codemirror_mode": {
    "name": "ipython",
    "version": 3
   },
   "file_extension": ".py",
   "mimetype": "text/x-python",
   "name": "python",
   "nbconvert_exporter": "python",
   "pygments_lexer": "ipython3",
   "version": "3.7.7"
  }
 },
 "nbformat": 4,
 "nbformat_minor": 2
}
